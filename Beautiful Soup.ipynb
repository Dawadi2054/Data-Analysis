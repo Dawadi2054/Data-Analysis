{
 "cells": [
  {
   "cell_type": "code",
   "execution_count": 1,
   "metadata": {},
   "outputs": [
    {
     "ename": "ModuleNotFoundError",
     "evalue": "No module named 'urllib2'",
     "output_type": "error",
     "traceback": [
      "\u001b[1;31m---------------------------------------------------------------------------\u001b[0m",
      "\u001b[1;31mModuleNotFoundError\u001b[0m                       Traceback (most recent call last)",
      "\u001b[1;32m<ipython-input-1-104eebf69bb7>\u001b[0m in \u001b[0;36m<module>\u001b[1;34m()\u001b[0m\n\u001b[0;32m      1\u001b[0m \u001b[1;31m# import libraries\u001b[0m\u001b[1;33m\u001b[0m\u001b[1;33m\u001b[0m\u001b[0m\n\u001b[1;32m----> 2\u001b[1;33m \u001b[1;32mimport\u001b[0m \u001b[0murllib2\u001b[0m\u001b[1;33m\u001b[0m\u001b[0m\n\u001b[0m\u001b[0;32m      3\u001b[0m \u001b[1;32mfrom\u001b[0m \u001b[0mbs4\u001b[0m \u001b[1;32mimport\u001b[0m \u001b[0mBeautifulSoup\u001b[0m\u001b[1;33m\u001b[0m\u001b[0m\n",
      "\u001b[1;31mModuleNotFoundError\u001b[0m: No module named 'urllib2'"
     ]
    }
   ],
   "source": [
    "# import libraries\n",
    "import urllib2\n",
    "from bs4 import BeautifulSoup"
   ]
  },
  {
   "cell_type": "code",
   "execution_count": 2,
   "metadata": {},
   "outputs": [
    {
     "ename": "ModuleNotFoundError",
     "evalue": "No module named 'urllib2'",
     "output_type": "error",
     "traceback": [
      "\u001b[1;31m---------------------------------------------------------------------------\u001b[0m",
      "\u001b[1;31mModuleNotFoundError\u001b[0m                       Traceback (most recent call last)",
      "\u001b[1;32m<ipython-input-2-104eebf69bb7>\u001b[0m in \u001b[0;36m<module>\u001b[1;34m()\u001b[0m\n\u001b[0;32m      1\u001b[0m \u001b[1;31m# import libraries\u001b[0m\u001b[1;33m\u001b[0m\u001b[1;33m\u001b[0m\u001b[0m\n\u001b[1;32m----> 2\u001b[1;33m \u001b[1;32mimport\u001b[0m \u001b[0murllib2\u001b[0m\u001b[1;33m\u001b[0m\u001b[0m\n\u001b[0m\u001b[0;32m      3\u001b[0m \u001b[1;32mfrom\u001b[0m \u001b[0mbs4\u001b[0m \u001b[1;32mimport\u001b[0m \u001b[0mBeautifulSoup\u001b[0m\u001b[1;33m\u001b[0m\u001b[0m\n",
      "\u001b[1;31mModuleNotFoundError\u001b[0m: No module named 'urllib2'"
     ]
    }
   ],
   "source": [
    "# import libraries\n",
    "import urllib2\n",
    "from bs4 import BeautifulSoup"
   ]
  },
  {
   "cell_type": "code",
   "execution_count": 3,
   "metadata": {},
   "outputs": [],
   "source": [
    "# import libraries\n",
    "import urllib3\n",
    "from bs4 import BeautifulSoup"
   ]
  },
  {
   "cell_type": "code",
   "execution_count": 2,
   "metadata": {},
   "outputs": [],
   "source": [
    "quote_page = \"https://www.azaccountancy.gov/AboutUs/CommitteeMembers.aspx\""
   ]
  },
  {
   "cell_type": "code",
   "execution_count": 5,
   "metadata": {},
   "outputs": [
    {
     "ename": "SyntaxError",
     "evalue": "invalid character in identifier (<ipython-input-5-9bee05f5edcd>, line 1)",
     "output_type": "error",
     "traceback": [
      "\u001b[1;36m  File \u001b[1;32m\"<ipython-input-5-9bee05f5edcd>\"\u001b[1;36m, line \u001b[1;32m1\u001b[0m\n\u001b[1;33m    quote_page = ‘ https://www.azaccountancy.gov/AboutUs/CommitteeMembers.aspx '\u001b[0m\n\u001b[1;37m                 ^\u001b[0m\n\u001b[1;31mSyntaxError\u001b[0m\u001b[1;31m:\u001b[0m invalid character in identifier\n"
     ]
    }
   ],
   "source": [
    "quote_page = ‘ https://www.azaccountancy.gov/AboutUs/CommitteeMembers.aspx '"
   ]
  },
  {
   "cell_type": "code",
   "execution_count": 1,
   "metadata": {},
   "outputs": [
    {
     "ename": "SyntaxError",
     "evalue": "invalid character in identifier (<ipython-input-1-9b184708a53f>, line 1)",
     "output_type": "error",
     "traceback": [
      "\u001b[1;36m  File \u001b[1;32m\"<ipython-input-1-9b184708a53f>\"\u001b[1;36m, line \u001b[1;32m1\u001b[0m\n\u001b[1;33m    quote_page = ‘https://www.azaccountancy.gov/AboutUs/CommitteeMembers.aspx'\u001b[0m\n\u001b[1;37m                      ^\u001b[0m\n\u001b[1;31mSyntaxError\u001b[0m\u001b[1;31m:\u001b[0m invalid character in identifier\n"
     ]
    }
   ],
   "source": [
    "quote_page = ‘https://www.azaccountancy.gov/AboutUs/CommitteeMembers.aspx'"
   ]
  },
  {
   "cell_type": "code",
   "execution_count": 3,
   "metadata": {},
   "outputs": [],
   "source": [
    "quote_page = \"https://www.azaccountancy.gov/AboutUs/CommitteeMembers.aspx\""
   ]
  },
  {
   "cell_type": "code",
   "execution_count": 4,
   "metadata": {},
   "outputs": [
    {
     "ename": "NameError",
     "evalue": "name 'urllib2' is not defined",
     "output_type": "error",
     "traceback": [
      "\u001b[1;31m---------------------------------------------------------------------------\u001b[0m",
      "\u001b[1;31mNameError\u001b[0m                                 Traceback (most recent call last)",
      "\u001b[1;32m<ipython-input-4-ea4982f4f28a>\u001b[0m in \u001b[0;36m<module>\u001b[1;34m()\u001b[0m\n\u001b[1;32m----> 1\u001b[1;33m \u001b[0mpage\u001b[0m \u001b[1;33m=\u001b[0m \u001b[0murllib2\u001b[0m\u001b[1;33m.\u001b[0m\u001b[0murlopen\u001b[0m\u001b[1;33m(\u001b[0m\u001b[0mquote_page\u001b[0m\u001b[1;33m)\u001b[0m\u001b[1;33m\u001b[0m\u001b[0m\n\u001b[0m",
      "\u001b[1;31mNameError\u001b[0m: name 'urllib2' is not defined"
     ]
    }
   ],
   "source": [
    "page = urllib2.urlopen(quote_page)"
   ]
  },
  {
   "cell_type": "code",
   "execution_count": 5,
   "metadata": {},
   "outputs": [
    {
     "ename": "NameError",
     "evalue": "name 'urllib3' is not defined",
     "output_type": "error",
     "traceback": [
      "\u001b[1;31m---------------------------------------------------------------------------\u001b[0m",
      "\u001b[1;31mNameError\u001b[0m                                 Traceback (most recent call last)",
      "\u001b[1;32m<ipython-input-5-6a028e3ac625>\u001b[0m in \u001b[0;36m<module>\u001b[1;34m()\u001b[0m\n\u001b[1;32m----> 1\u001b[1;33m \u001b[0mpage\u001b[0m \u001b[1;33m=\u001b[0m \u001b[0murllib3\u001b[0m\u001b[1;33m.\u001b[0m\u001b[0murlopen\u001b[0m\u001b[1;33m(\u001b[0m\u001b[0mquote_page\u001b[0m\u001b[1;33m)\u001b[0m\u001b[1;33m\u001b[0m\u001b[0m\n\u001b[0m",
      "\u001b[1;31mNameError\u001b[0m: name 'urllib3' is not defined"
     ]
    }
   ],
   "source": [
    "page = urllib3.urlopen(quote_page)"
   ]
  },
  {
   "cell_type": "code",
   "execution_count": 6,
   "metadata": {},
   "outputs": [
    {
     "ename": "NameError",
     "evalue": "name 'urllib2' is not defined",
     "output_type": "error",
     "traceback": [
      "\u001b[1;31m---------------------------------------------------------------------------\u001b[0m",
      "\u001b[1;31mNameError\u001b[0m                                 Traceback (most recent call last)",
      "\u001b[1;32m<ipython-input-6-7b9e014871f6>\u001b[0m in \u001b[0;36m<module>\u001b[1;34m()\u001b[0m\n\u001b[1;32m----> 1\u001b[1;33m \u001b[0mpage\u001b[0m \u001b[1;33m=\u001b[0m \u001b[0murllib2\u001b[0m\u001b[1;33m.\u001b[0m\u001b[0mrequest\u001b[0m\u001b[1;33m.\u001b[0m\u001b[0mRequest\u001b[0m\u001b[1;33m(\u001b[0m\u001b[0mquote_page\u001b[0m\u001b[1;33m)\u001b[0m\u001b[1;33m\u001b[0m\u001b[0m\n\u001b[0m",
      "\u001b[1;31mNameError\u001b[0m: name 'urllib2' is not defined"
     ]
    }
   ],
   "source": [
    "page = urllib2.request.Request(quote_page)"
   ]
  },
  {
   "cell_type": "code",
   "execution_count": 7,
   "metadata": {},
   "outputs": [
    {
     "ename": "NameError",
     "evalue": "name 'urllib3' is not defined",
     "output_type": "error",
     "traceback": [
      "\u001b[1;31m---------------------------------------------------------------------------\u001b[0m",
      "\u001b[1;31mNameError\u001b[0m                                 Traceback (most recent call last)",
      "\u001b[1;32m<ipython-input-7-accd034016ab>\u001b[0m in \u001b[0;36m<module>\u001b[1;34m()\u001b[0m\n\u001b[1;32m----> 1\u001b[1;33m \u001b[0mpage\u001b[0m \u001b[1;33m=\u001b[0m \u001b[0murllib3\u001b[0m\u001b[1;33m.\u001b[0m\u001b[0mrequest\u001b[0m\u001b[1;33m.\u001b[0m\u001b[0mRequest\u001b[0m\u001b[1;33m(\u001b[0m\u001b[0mquote_page\u001b[0m\u001b[1;33m)\u001b[0m\u001b[1;33m\u001b[0m\u001b[0m\n\u001b[0m",
      "\u001b[1;31mNameError\u001b[0m: name 'urllib3' is not defined"
     ]
    }
   ],
   "source": [
    "page = urllib3.request.Request(quote_page)"
   ]
  },
  {
   "cell_type": "code",
   "execution_count": 8,
   "metadata": {},
   "outputs": [],
   "source": [
    "import urllib3\n",
    "from bs4 import BeautifulSoup"
   ]
  },
  {
   "cell_type": "code",
   "execution_count": 9,
   "metadata": {},
   "outputs": [],
   "source": [
    "quote_page = \"https://www.azaccountancy.gov/AboutUs/CommitteeMembers.aspx\""
   ]
  },
  {
   "cell_type": "code",
   "execution_count": 11,
   "metadata": {},
   "outputs": [],
   "source": [
    "import urllib3"
   ]
  },
  {
   "cell_type": "code",
   "execution_count": 12,
   "metadata": {},
   "outputs": [],
   "source": [
    "http = urllib3.PoolManager()"
   ]
  },
  {
   "cell_type": "code",
   "execution_count": 13,
   "metadata": {},
   "outputs": [
    {
     "name": "stderr",
     "output_type": "stream",
     "text": [
      "C:\\Users\\Niranjan Dawadi\\Anaconda3\\lib\\site-packages\\urllib3\\connectionpool.py:858: InsecureRequestWarning: Unverified HTTPS request is being made. Adding certificate verification is strongly advised. See: https://urllib3.readthedocs.io/en/latest/advanced-usage.html#ssl-warnings\n",
      "  InsecureRequestWarning)\n"
     ]
    }
   ],
   "source": [
    "r = http.request('GET', 'https://www.azaccountancy.gov/AboutUs/CommitteeMembers.aspx')"
   ]
  },
  {
   "cell_type": "code",
   "execution_count": 14,
   "metadata": {},
   "outputs": [
    {
     "data": {
      "text/plain": [
       "b'\\r\\n\\r\\n<!DOCTYPE html PUBLIC \"-//W3C//DTD XHTML 1.0 Transitional//EN\" \"http://www.w3.org/TR/xhtml1/DTD/xhtml1-transitional.dtd\">\\r\\n\\r\\n<html xmlns=\"http://www.w3.org/1999/xhtml\" lang=\"en\">\\r\\n<head id=\"Head1\"><title>\\r\\n\\tCommittee Members\\r\\n</title><meta http-equiv=\"X-UA-compatible\" content=\"IE=9\" /> <!-- To try and fix IE 11 compatibility issue: meta http-equiv=\"X-UA-Compatible\" content=\"IE=EmulateIE9\" -->\\r\\n    <meta name=\"Author\" content=\"Richard Sietz\" /><meta name=\"Keywords\" content=\"Arizona State Board of Accountancy, Accountants, CPA, CPA Exam, CPE, Accounting, CPA License, Accounting organizations, CPE, Continuing Professional Education, Accountant, CPA Examination, Arizona, State Boards, Accounting, Laws, Rules, Arizona State Board of Accountancy, Accountants\" /><meta name=\"Description\" content=\"Arizona State Board of Accountancy\" />\\r\\n    <script language=\"javascript\" type=\"text/javascript\">\\r\\n        // redirect from old domain to fix session issues...\\r\\n        if (window.location == \"http://www.accountancy.state.az.us/\") {\\r\\n            window.location = \"http://www.azaccountancy.gov\";\\r\\n        }\\r\\n        if (window.location == \"http://www.accountancy.state.az.us/\") {\\r\\n            window.location = \"http://www.azaccountancy.gov/\";\\r\\n        }\\r\\n    </script>\\r\\n    \\r\\n    <link href=\"../styles/StyleSheet.css\" rel=\"Stylesheet\" type=\"text/css\" />\\r\\n    <style type=\"text/css\">\\r\\n        .style1\\r\\n        {\\r\\n            width: 294px;\\r\\n        }\\r\\n        .style2\\r\\n        {\\r\\n            width: 509px;\\r\\n        }     \\r\\n    </style>\\r\\n    <link rel=\"shortcut icon\" type=\"image/x-icon\" href=\"../images/favicon.ico\" /><link href=\"../App_Themes/Default/aztemplate.css\" type=\"text/css\" rel=\"stylesheet\" /></head>\\r\\n<body>\\r\\n    <form method=\"post\" action=\"./CommitteeMembers.aspx\" id=\"form1\">\\r\\n<input type=\"hidden\" name=\"__VIEWSTATE\" id=\"__VIEWSTATE\" value=\"7PrioUp8/BAqVl2pTBpzXxCDziBVWZqRVudHH9Yniy/uPNdoyAXEL+7pzFmY3wnXYAvrEl5wZ/91KrAJp7NyBEZJkruUy4eZZYgaMwEo9t/LbOjYiDRjiCGr+dJkJpSE7D1IbH1HP/rjsPZb8/DN8l15hYElKJStH5qSR/PTwAYoSQR2SgJ8tia2T3qQxU6jiWYTFsb/+s8wAMjdlwDz2w==\" />\\r\\n\\r\\n\\r\\n<script src=\"/ScriptResource.axd?d=qph9tUZ6hGPLbkznkRkqTZAG6jMF7ifnvp9DT--KCE0dMC0tyKNormFGkFLLrd7IvCwsbObujmHLzXegb8yirUtnBdyeGrD4mC21ioMKzSzqXxe3WE-LSvTxS9as-4LY0&amp;t=397b6a7\" type=\"text/javascript\"></script>\\r\\n<input type=\"hidden\" name=\"__VIEWSTATEGENERATOR\" id=\"__VIEWSTATEGENERATOR\" value=\"E49828E5\" />\\r\\n    \\r\\n    <script language=\"javascript\" type=\"text/javascript\" src=\"../Common/Javascript/crumb.js\" ></script>\\n<script language=\"javascript\" type=\"text/javascript\" src=\"../Common/Javascript/dates.js\" ></script>\\n\\r\\n    <!-- BEGIN TOOLTIP EMBED -->\\r\\n    <!-- END TOOLTIP EMBED -->\\r\\n    <div id=\"headerTop\">\\r\\n        <div id=\"MinWidthContainer\">\\r\\n            <div id=\"PageContainer\">\\r\\n                <div id=\"PageContentContainer\">\\r\\n                    <!--Begin Help Menu-->\\r\\n                    <div id=\"helpmenu\">\\r\\n                        &nbsp;<a href=\"#\"><img src=\"../common/images/spacer.gif\" id=\"Img1\" alt=\"skip navigation\" /></a>\\r\\n                        <!-- Do not remove this link! -->\\r\\n                    </div>\\r\\n                    <!--End Help Menu-->\\r\\n                    <!-- Begin Top Menu -->\\r\\n                    <!-- Begin Print Content -->\\r\\n                    <div class=\"printwrapper\">\\r\\n                        <img src=\"../common/images/azlogo_print.jpg\" id=\"Img2\" align=\"right\" alt=\"AZ.gov Arizona&#39;s Official Website\" />\\r\\n                        <h1>Arizona State Board of Accountancy</h1><br />\\r\\n                    </div>\\r\\n                    <!-- End Print Content -->\\r\\n                    <div class=\"topmenu_wrapper\">\\r\\n                        <div class=\"topmenu\">\\r\\n                            <ul id=\"nav\">\\r\\n                                <li class=\"top\"><a href=\"Default.aspx\" id=\"A40\" class=\"top_link\">\\r\\n                                    <span class=\"down\">About Us</span></a>\\r\\n                                    <ul class=\"sub\" id=\"navUL\">\\r\\n                                        <li><a href=\"../Default.aspx\" id=\"A2\" class=\"fly\">Home Page</a></li>\\r\\n                                        <li><a href=\"BoardMembers.aspx\" id=\"A3\" class=\"fly\">Board Members</a></li>\\r\\n                                        <li><a href=\"CommitteeMembers.aspx\" id=\"A4\" class=\"fly\">Committee Members</a></li>\\r\\n                                        <li><a href=\"BoardInvestigators.aspx\" id=\"A61\" class=\"fly\">Board Investigators</a></li>\\r\\n                                        <li><a href=\"StaffMembers.aspx\" id=\"A5\" class=\"fly\">Staff Members</a></li>\\r\\n                                        <li><a href=\"Meetings_Calendar.aspx\" id=\"A71\" class=\"fly\">Monthly Meetings Calendar</a></li> \\r\\n                                        <li><a href=\"Meetings_Calendar.aspx?T=A\" id=\"A72\" class=\"fly\">Annual Meetings Calendar</a></li>                                       \\r\\n                                        <li><a href=\"ArizonaRevisedStatutes.aspx\" id=\"A7\" class=\"fly\">\\r\\n                                            Arizona Revised Statutes</a></li>\\r\\n                                        <li><a href=\"ArizonaAdministrativeCode.aspx\" id=\"A8\" class=\"fly\">\\r\\n                                            AZ Administrative Code</a></li>\\r\\n                                        <li><a href=\"SubstantivePolicy.aspx\" id=\"A50\" class=\"fly\">\\r\\n                                            Substantive Policy Statements</a></li>\\r\\n                                        \\r\\n                                        <li><a href=\"#\" onclick=\\'window.location.href = &quot;..//DownloadFile.aspx?FD=Budget%20Request&FN=Budget%20Request&FE=pdf&FF=documents&FA=asboastorage&quot;;return false;\\'>\\r\\n                                            Budget Request and Master List</a></li>                                      \\r\\n                                    </ul></li>\\r\\n                                <li class=\"top\"><a href=\"../Exam/Default.aspx\" id=\"A9\" class=\"top_link\"><span\\r\\n                                    class=\"down\">Exam</span></a>\\r\\n                                    <ul class=\"sub\">\\r\\n                                        <li><a href=\"../Exam/FAQs.aspx\" id=\"A10\" class=\"fly\">FAQs</a></li>\\r\\n                                        <li><a href=\"../Exam/InitialApplication.aspx\" id=\"A11\" class=\"fly\">Initial\\r\\n                                            Application</a></li>\\r\\n                                        <li><a href=\"../Exam/ReexamApplication.aspx\" id=\"A12\" class=\"fly\">Re-exam\\r\\n                                            Application</a></li>\\r\\n                                        <li><a href=\"../Exam/GradeReviewAppeal.aspx\" id=\"A13\" class=\"fly\">Grade \\r\\n                                            Review/Appeal</a></li>\\r\\n                                        <li><a href=\"../Exam/Resources.aspx\" id=\"A14\" class=\"fly\">Resources</a></li>\\r\\n                                        <li><a href=\"../Exam/ChangeOfAddress.aspx\" id=\"A1\" class=\"fly\">Change of Address</a></li>\\r\\n                                        <li><a href=\"../Exam/FormsApps.aspx\" id=\"A48\" class=\"fly\">Forms &amp; Applications</a></li>\\r\\n                                    </ul></li>\\r\\n                                <li class=\"top\"><a href=\"../Certification/Default.aspx\" id=\"A15\" class=\"top_link\">\\r\\n                                    <span class=\"down\">Certification</span></a>\\r\\n                                    <ul class=\"sub\">\\r\\n                                        <li><a href=\"../Certification/FAQs.aspx\" id=\"A16\" class=\"fly\">FAQs</a></li>\\r\\n                                        <li><a href=\"../Certification/Examinations.aspx\" id=\"A17\" class=\"fly\">\\r\\n                                            Examination</a></li>\\r\\n                                        <li><a href=\"../Certification/GradeTransfer.aspx\" id=\"A18\" class=\"fly\">\\r\\n                                            Grade Transfer</a></li>\\r\\n                                        <li><a href=\"../Certification/SubstantialEquivalency.aspx\" id=\"A20\" class=\"fly\">Substantial Equivalency</a></li>\\r\\n                                        <li><a href=\"../Certification/Reciprocity.aspx\" id=\"A19\" class=\"fly\">Reciprocity</a></li>\\r\\n                                        <li><a href=\"../Certification/MRA_And_IQEX.aspx\" id=\"A57\" class=\"fly\">MRA &amp; IQEX</a></li>\\r\\n                                        <li><a href=\"../General/Mobility.aspx\" id=\"A6\" class=\"fly\">Mobility</a></li>\\r\\n                                        <li><a href=\"../Renewals/NameChange.aspx\" id=\"A54\" class=\"fly\">Name Change</a></li>\\r\\n                                        <li><a href=\"../Renewals/ChangeOfAddress.aspx\" id=\"A55\" class=\"fly\">Change of Address</a></li>\\r\\n                                        <li><a href=\"../Renewals/Cancellation.aspx\" id=\"A56\" class=\"fly\">Cancellation</a></li>\\r\\n                                        <li><a href=\"../Certification/Reinstatement.aspx\" id=\"A37\" class=\"fly\">Reinstatement</a></li>\\r\\n                                        <li><a href=\"../Certification/FormsApps.aspx\" id=\"A49\" class=\"fly\">Forms &amp; Applications</a></li>\\r\\n                                    </ul></li>\\r\\n                                <li class=\"top\"><a href=\"../Renewals/Default.aspx\" id=\"A21\" class=\"top_link\">\\r\\n                                    <span class=\"down\">Renewals</span></a>\\r\\n                                    <ul class=\"sub\">\\r\\n                                        <li><a href=\"../Renewals/FAQs.aspx\" id=\"A22\" class=\"fly\">FAQs</a></li>\\r\\n                                        <!-- Removed 10/3/11 <li><a href=\"../Renewals/Applications.aspx\" id=\"A23\" class=\"fly\">Applications</a></li> -->\\r\\n                                        <li><a href=\"../Renewals/CPE.aspx\" id=\"A24\" class=\"fly\">CPE</a></li>\\r\\n                                        <li><a href=\"../Renewals/InactiveStatus.aspx\" id=\"A25\" class=\"fly\">\\r\\n                                            Inactive Status</a></li>\\r\\n                                        <li><a href=\"../Renewals/RetiredStatus.aspx\" id=\"A26\" class=\"fly\">\\r\\n                                            Retired Status</a></li>\\r\\n                                        <li><a href=\"../Renewals/CPE-FeeWaivers.aspx\" id=\"A27\" class=\"fly\">\\r\\n                                            CPE and Fee Waivers</a></li>\\r\\n                                        <li><a href=\"../Renewals/NameChange.aspx\" id=\"A28\" class=\"fly\">Name Change</a></li>\\r\\n                                        <li><a href=\"../Renewals/ChangeOfAddress.aspx\" id=\"A42\" class=\"fly\">Change of Address</a></li>\\r\\n                                        <li><a href=\"../Renewals/Cancellation.aspx\" id=\"A44\" class=\"fly\">Cancellation</a></li>\\r\\n                                        <li><a href=\"../General/Mobility.aspx\" id=\"A52\" class=\"fly\">Mobility</a></li>\\r\\n                                        <li><a href=\"../Renewals/FormsApps.aspx\" id=\"A46\" class=\"fly\">Forms &amp; Applications</a></li>\\r\\n                                        <li><a href=\"../login/login.aspx\" id=\"A53\" class=\"fly\">Account Log In</a></li>\\r\\n                                    </ul></li>\\r\\n                                <li class=\"top\"><a href=\"../Firms/Default.aspx\" id=\"A29\" class=\"top_link\">\\r\\n                                    <span class=\"down\">Firms</span></a>\\r\\n                                    <ul class=\"sub\">\\r\\n                                        <li><a href=\"../Firms/FAQs.aspx\" id=\"A30\" class=\"fly\">FAQs</a></li>\\r\\n                                        <li><a href=\"../Firms/PeerReview.aspx\" id=\"A31\" class=\"fly\">Peer Review</a></li>\\r\\n                                        <li><a href=\"../Firms/Applications.aspx\" id=\"A32\" class=\"fly\">Application/Renewal</a></li>\\r\\n                                        <li><a href=\"../Firms/NameChange.aspx\" id=\"A33\" class=\"fly\">Name Change</a></li>\\r\\n                                        <li><a href=\"../Firms/ChangeOfAddress.aspx\" id=\"A43\" class=\"fly\">Change of Address</a></li>\\r\\n                                        <li><a href=\"../Firms/Cancellation.aspx\" id=\"A45\" class=\"fly\">Cancellation</a></li>\\r\\n                                        <li><a href=\"../General/Mobility.aspx\" id=\"A51\" class=\"fly\">Mobility</a></li>\\r\\n                                        <li><a href=\"../Firms/FormsApps.aspx\" id=\"A47\" class=\"fly\">Forms &amp; Applications</a></li>\\r\\n                                    </ul></li>\\r\\n                                <li class=\"top\"><a href=\"../Consumers/Default.aspx\" id=\"A34\" class=\"top_link\">\\r\\n                                    <span class=\"down\">Consumers</span></a>\\r\\n                                    <ul class=\"sub\">\\r\\n                                        <li><a href=\"../Consumers/FAQs.aspx\" id=\"A35\" class=\"fly\">FAQs</a></li>\\r\\n                                        <li><a href=\"../Consumers/FileAComplaint.aspx\" id=\"A36\" class=\"fly\">File\\r\\n                                            a Complaint</a></li>\\r\\n                                        <li><a href=\"../Consumers/PublicRecordsRequest.aspx\" id=\"A38\" class=\"fly\">\\r\\n                                            Public Records Request</a></li>\\r\\n                                        <li><a href=\"../General/Find_a_CPA.aspx\" id=\"A60\" class=\"fly\">Find a CPA</a></li>\\r\\n                                    </ul></li>\\r\\n                                <li class=\"top\"><a href=\"../CPADirectory/CPASearch.aspx\" id=\"A39\" class=\"top_link\"><span class=\"down\">CPA Directory</span></a> \\r\\n                                    <ul class=\"sub\">\\r\\n                                        <li><a href=\"../CPADirectory/CPASearch.aspx\" id=\"A41\" class=\"fly\">\\r\\n                                            CPA Search</a></li>\\r\\n                                    </ul></li>\\r\\n                            </ul>\\r\\n                        </div>\\r\\n                    </div>\\r\\n                    <!-- End Top Menu -->\\r\\n                    <!-- Begin bnr_wrapper-->\\r\\n                    <div id=\"bnr_wrapper\">\\r\\n                        <div id=\"bnr_center\">\\r\\n                            <a href=\"/Default.aspx\" target=\"_self\"> <!-- hhilliker - 1/6/16 - Fix for navigation issue - changed from \"Default.aspx\" to \"/Default.aspx\" -->\\r\\n                                <img src=\"../common/images/spacer.gif\" id=\"Img3\" alt=\"Arizona State Board of Accountancy\" width=\"250\" height=\"75\" border=\"0\" align=\"left\" /></a> <a href=\"http://www.az.gov\" target=\"_blank\">\\r\\n                                        <img src=\"../common/images/spacer.gif\" id=\"Img4\" alt=\"AZ.gov Arizona&#39;s Official Web Site\" width=\"250\" height=\"75\" border=\"0\" align=\"right\" /></a>\\r\\n                            <div class=\"bnr_text\">\\r\\n                                &nbsp;</div>\\r\\n                        </div>\\r\\n                        <div id=\"bnr2_wrapper\">\\r\\n                            <!-- Google\\'s Custom Search Engine (CSE) begins -->\\r\\n                            \\r\\n                            \\r\\n                            <!-- Development\\'s Search Engine ID: (replace the value only, NOT the whole line of code) -->\\r\\n                            <!--     Value=\"000060273516863637567:l7tcqsbuf90\" -->\\r\\n                            <!-- Live\\'s Search Engine ID: (replace the value only, NOT the whole line of code) -->\\r\\n                            <!--     Value=\"000060273516863637567:xacvyhfuqxo\" -->\\r\\n                            \\r\\n\\r\\n                            \\r\\n                            \\r\\n                            <script type=\"text/javascript\" language=\"javascript\">\\r\\n                            (function () {\\r\\n                                var cx = \\'011219224831541177449:4givjt04qti\\';\\r\\n                                var gcse = document.createElement(\\'script\\');\\r\\n                                gcse.type = \\'text/javascript\\';\\r\\n                                gcse.async = true;\\r\\n                                gcse.src = (document.location.protocol == \\'https:\\' ? \\'https:\\' : \\'http:\\') +\\r\\n                                    \\'//cse.google.com/cse.js?cx=\\' + cx;\\r\\n                                var s = document.getElementsByTagName(\\'script\\')[0];\\r\\n                                s.parentNode.insertBefore(gcse, s);\\r\\n                            })();\\r\\n                            </script>\\r\\n                            \\r\\n                            <table cellpadding=\"0\" cellspacing=\"0\" border=\"0\" style=\"width: 100%;\">\\r\\n                                <tr valign=\"middle\">\\r\\n                                    <td align=\"right\" style=\"width:725px\">\\r\\n                                    </td>\\r\\n                                    <td align=\"right\">\\r\\n                                        \\r\\n                                        <gcse:searchbox-only resultsUrl=\"/General/Search.aspx\"></gcse:searchbox-only>\\r\\n                                   </td>\\r\\n                                </tr>\\r\\n                            </table>\\r\\n                            <!-- Google\\'s Custom Search Engine (CSE) ends -->\\r\\n                        </div>\\r\\n                    </div>\\r\\n                    <!-- End bnr_wrapper-->\\r\\n                </div>\\r\\n            </div>\\r\\n        </div>\\r\\n    </div>\\r\\n    <table class=\"info\" align=\"center\">\\r\\n        <tr>\\r\\n            <td class=\"style2\">\\r\\n                Path:\\r\\n                <script language=\"JavaScript\" type=\"text/javascript\">\\r\\n                    //<!--\\r\\n                    breadcrumbs();\\r\\n                    //-->\\r\\n                </script>\\r\\n                <span id=\"lblTitle\">Committee Members</span>\\r\\n            </td>\\r\\n            <td align=\"right\">\\r\\n                <!--  -->\\r\\n                Welcome:\\r\\n                \\r\\n                        <span class=\"style1\">Guest </span>\\r\\n                    \\r\\n            </td>\\r\\n        </tr>\\r\\n    </table>\\r\\n    <div class=\"content_wrapper\">\\r\\n        <div id=\"main1\">\\r\\n            <div>\\r\\n                <div>\\r\\n                    \\r\\n\\r\\n<!-- Google Analytics Tracking Begin -->\\r\\n<script type=\"text/javascript\">\\r\\n    var gaJsHost = ((\"https:\" == document.location.protocol) ? \"https://ssl.\" : \"http://www.\");\\r\\n    document.write(unescape(\"%3Cscript src=\\'\" + gaJsHost + \"google-analytics.com/ga.js\\' type=\\'text/javascript\\'%3E%3C/script%3E\"));\\r\\n</script>\\r\\n<script type=\"text/javascript\">\\r\\n    try {\\r\\n        var pageTracker = _gat._getTracker(\"UA-10383965-1\");\\r\\n        pageTracker._trackPageview();\\r\\n    } catch (err) { }\\r\\n</script>\\r\\n<!-- Google Analytics Tracking End -->\\r\\n\\r\\n    <table width=\"100%\">\\r\\n        <tr>\\r\\n            <td class=\"PageText\"><br />\\r\\n                Pursuant to A.R.S. \\xc2\\xa7 32-703(B)(10) the Arizona Board of Accountancy may \\r\\n                appoint committees or individuals as it considers necessary to advise \\r\\n                or assist the Board or the Board&#39;s Executive Director in administering and enforcing Chapter 6 \\xe2\\x80\\x93 Certified \\r\\n                Public Accountants of Title 32 \\xe2\\x80\\x93 Professions and Occupations. These \\r\\n                committees and individuals serve at the pleasure of the board. There are \\r\\n                six committees comprised of dozens of terrific public servants that help \\r\\n                the Board and its staff, fulfill its mission in an efficient and cost-effective manner and give back to the CPA profession. The Arizona Board \\r\\n                of Accountancy has the following committees:<br /></td>\\r\\n            <td width=\"20\" class=\"PicCaption\" valign=\"bottom\">\\r\\n                </td>\\r\\n            <td width=\"300\" align=\"center\" valign=\"top\" rowspan=\"32\\r\\n            \">\\r\\n                <img id=\"cBody_Image7\" alt=\"Arizona&#39;s landscape\" src=\"../images/theme_7_300.jpg\" />\\r\\n                <span class=\"PicCaption\">\\r\\n                Saguaro National Park, Arizona</span></td>\\r\\n        </tr>\\r\\n        <tr>\\r\\n            <td>\\r\\n                <ul>\\r\\n                    <li><a id=\"cBody_HyperLink1\" href=\"#Accounting_and_Auditing_Standards_Committee\">\\r\\n                        Accounting and Auditing Advisory Committee</a></li>\\r\\n                    <li><a id=\"cBody_HyperLink2\" href=\"#Tax_Practice_Committee\">\\r\\n                        Tax Advisory Committee</a></li>\\r\\n                    <li><a id=\"cBody_HyperLink3\" href=\"#Peer_Review_Oversight_Committee\">\\r\\n                        Peer Review Oversight Advisory Committee</a></li>\\r\\n                    <li><a id=\"cBody_HyperLink4\" href=\"#Law_Review_Committee\">\\r\\n                        Law Review Advisory Committee</a></li>\\r\\n                    <li><a id=\"cBody_HyperLink5\" href=\"#Certification_Committee\">\\r\\n                        Certification Advisory Committee</a></li>\\r\\n                    <li><a id=\"cBody_HyperLink6\" href=\"#Continuing_Professional_Education_Committee\">\\r\\n                        Continuing Professional Education Advisory Committee</a></li>\\r\\n                </ul>\\r\\n            </td>\\r\\n            <td width=\"20\" class=\"PicCaption\" valign=\"bottom\">\\r\\n                </td>\\r\\n            <td width=\"20\" class=\"PicCaption\" valign=\"bottom\">\\r\\n                &nbsp;</td>\\r\\n        </tr>\\r\\n        <tr>\\r\\n            <td>\\r\\n        <table style=\"width: 100%\" cellspacing=\"0\">\\r\\n        <tr>\\r\\n            <td colspan=\"5\"  class=\"SectionTitle\">\\r\\n                <a name=\"_Toc222289496\"><span class=\"SectionTitle\">\\r\\n                &nbsp;Accounting and Auditing Advisory Committee</span></a>\\r\\n                <a name=\"Accounting_and_Auditing_Standards_Committee\"></a></td>\\r\\n        </tr>\\r\\n        <tr>\\r\\n            <td colspan=\"5\" class=\"SectionText\">\\r\\n               Pursuant to A.A.C. R4-1-115, the committee investigates matters concerning accounting \\r\\n               reports, taxation and other areas of public accounting as the Board deems appropriate. This \\r\\n               committee evaluates investigation files referred by the Board, holds voluntary interviews and \\r\\n               makes advisory recommendations to the Board concerning settlement, dismissal or other \\r\\n               disposition of the reviewed matter.<br /><br /></td>\\r\\n        </tr>\\r\\n        <tr>\\r\\n            <td style=\"width: 3%\">&nbsp;</td>\\r\\n            <td style=\"width: 46%\" class=\"SubSectionTitle2\">\\r\\n                &nbsp;Robert E. Dubberly, CPA</td>\\r\\n            <td style=\"width: 18%\" class=\"SubSectionTitle2\">\\r\\n                Chairperson</td>\\r\\n            <td style=\"width: 30%\" class=\"SubSectionTitle2\">\\r\\n                Term Expires June 30, 2022</td>\\r\\n            <td style=\"width: 3%\">&nbsp;</td>\\r\\n        </tr>\\r\\n        <tr>\\r\\n            <td style=\"width: 3%\">&nbsp;</td>\\r\\n            <td style=\"width: 46%\" class=\"SubSectionTitle\">\\r\\n                &nbsp;Christopher A. Lutes, CPA</td>\\r\\n            <td style=\"width: 18%\" class=\"SubSectionTitle\">\\r\\n                Vice-Chairperson&nbsp;</td>\\r\\n            <td style=\"width: 30%\" class=\"SubSectionTitle\">\\r\\n                Term Expires June 30, 2023</td>\\r\\n            <td style=\"width: 3%\">&nbsp;</td>\\r\\n        </tr>\\r\\n        <tr>\\r\\n            <td style=\"width: 3%\">&nbsp;</td>\\r\\n            <td style=\"width: 46%\" class=\"SubSectionTitle2\">\\r\\n                &nbsp;Andreas Demosthenous Coumides, Jr, CPA</td>\\r\\n            <td style=\"width: 18%\" class=\"SubSectionTitle2\">\\r\\n                Member</td>\\r\\n            <td style=\"width: 30%\" class=\"SubSectionTitle2\">\\r\\n                Term Expires June 30, 2022</td>\\r\\n            <td style=\"width: 3%\">&nbsp;</td>\\r\\n        </tr>\\r\\n        <tr>\\r\\n            <td style=\"width: 3%\">&nbsp;</td>\\r\\n            <td style=\"width: 46%\" class=\"SubSectionTitle\">\\r\\n                &nbsp;Michael Haugen, CPA</td>\\r\\n            <td style=\"width: 18%\" class=\"SubSectionTitle\">\\r\\n                Member</td>\\r\\n            <td style=\"width: 30%\" class=\"SubSectionTitle\">\\r\\n                Term Expires June 30, 2023</td>\\r\\n            <td style=\"width: 3%\"></td>\\r\\n        </tr>\\r\\n        <tr>\\r\\n            <td  style=\"width: 3%\">&nbsp;</td>\\r\\n            <td style=\"width: 46%\" class=\"SubSectionTitle2\">\\r\\n                &nbsp;Stephen Theodore Harris, CPA</td>\\r\\n            <td style=\"width: 18%\" class=\"SubSectionTitle2\">\\r\\n                Member</td>\\r\\n            <td style=\"width: 30%\" class=\"SubSectionTitle2\">\\r\\n                Term Expires June 30, 2022</td>\\r\\n            <td style=\"width: 3%\">&nbsp;</td>\\r\\n        </tr>     \\r\\n        <tr>\\r\\n            <td  style=\"width: 3%\">&nbsp;</td>\\r\\n            <td style=\"width: 46%\" class=\"SubSectionTitle\">\\r\\n                &nbsp;Brian Robert Lee, CPA</td>\\r\\n            <td style=\"width: 18%\" class=\"SubSectionTitle\">\\r\\n                Member</td>\\r\\n            <td style=\"width: 30%\" class=\"SubSectionTitle\">\\r\\n                Term Expires June 30, 2021</td>\\r\\n            <td style=\"width: 3%\">&nbsp;</td>\\r\\n        </tr>\\r\\n         <tr>\\r\\n            <td style=\"width: 3%\">&nbsp;</td>\\r\\n            <td style=\"width: 46%\" class=\"SubSectionTitle2\">\\r\\n                &nbsp;Lisa B. Lumbard, CPA</td>\\r\\n            <td style=\"width: 18%\" class=\"SubSectionTitle2\">\\r\\n                Member</td>\\r\\n            <td style=\"width: 30%\" class=\"SubSectionTitle2\">\\r\\n                Term Expires June 30, 2023</td>\\r\\n            <td style=\"width: 3%\">&nbsp;</td>\\r\\n        </tr>\\r\\n        <tr>\\r\\n            <td style=\"width: 3%\">&nbsp;</td>\\r\\n            <td style=\"width: 46%\" class=\"SubSectionTitle\">\\r\\n                &nbsp;Steven Lavier Tait, CPA</td>\\r\\n            <td style=\"width: 18%\" class=\"SubSectionTitle\">\\r\\n                Member</td>\\r\\n            <td style=\"width: 30%\" class=\"SubSectionTitle\">\\r\\n                Term Expires June 30, 2020</td>\\r\\n            <td style=\"width: 3%\">&nbsp;</td>\\r\\n        </tr>\\r\\n        <tr>\\r\\n            <td style=\"width: 3%\">&nbsp;</td>\\r\\n            <td style=\"width: 46%\" class=\"SubSectionTitle2\">\\r\\n                &nbsp;Christine Brueser, CPA &nbsp;</td>\\r\\n            <td style=\"width: 18%\" class=\"SubSectionTitle2\">\\r\\n                Member</td>\\r\\n            <td style=\"width: 30%\" class=\"SubSectionTitle2\">\\r\\n                Term Expires June 30, 2022</td>\\r\\n            <td style=\"width: 3%\">&nbsp;</td>\\r\\n        </tr>        \\r\\n        </table>\\r\\n            </td>\\r\\n            <td width=\"20\" class=\"PicCaption\" valign=\"bottom\">\\r\\n                <a href=\"#Top\">top</a></td>\\r\\n            <td width=\"20\" class=\"PicCaption\" valign=\"bottom\">\\r\\n                &nbsp;</td>\\r\\n        </tr>\\r\\n        <tr>\\r\\n            <td>&nbsp;</td>\\r\\n            <td width=\"20\" class=\"PicCaption\" valign=\"bottom\">\\r\\n                </td>\\r\\n            <td width=\"20\" class=\"PicCaption\" valign=\"bottom\">\\r\\n                &nbsp;</td>\\r\\n        </tr>\\r\\n        <tr>\\r\\n            <td class=\"SectionTitle\">\\r\\n                <a name=\"_Toc222289497\"><span class=\"SectionTitle\">\\r\\n                &nbsp;Tax Advisory Committee</span></a>\\r\\n                <a name=\"Tax_Practice_Committee\"></a></td>\\r\\n            <td width=\"20\" class=\"PicCaption\" valign=\"bottom\">\\r\\n                </td>\\r\\n            <td width=\"20\" class=\"PicCaption\" valign=\"bottom\">\\r\\n                &nbsp;</td>\\r\\n        </tr>\\r\\n        <tr>\\r\\n            <td>\\r\\n        <table style=\"width: 100%\" cellspacing=\"0\">\\r\\n        <tr>\\r\\n            <td colspan=\"5\" class=\"SectionText\">\\r\\n                Pursuant to A.A.C. R4-1-115, the committee investigates matters concerning accounting\\r\\n                reports, taxation and other areas of public accounting as the Board deems appropriate. This \\r\\n                committee evaluates investigation files referred by the Board, holds voluntary interviews and \\r\\n                makes advisory recommendations to the Board concerning settlement, dismissal or other \\r\\n                disposition of the reviewed matter.<br /><br /></td>\\r\\n        </tr>\\r\\n        <tr>\\r\\n            <td style=\"width: 3%\">&nbsp;</td>\\r\\n            <td style=\"width: 46%\" class=\"SubSectionTitle\">\\r\\n                &nbsp;Leslie Stackpole, CPA</td>\\r\\n            <td style=\"width: 18%\" class=\"SubSectionTitle\">\\r\\n                Chairperson</td>\\r\\n            <td style=\"width: 30%\" class=\"SubSectionTitle\">\\r\\n                Term Expires June 30, 2019</td>\\r\\n            <td style=\"width: 3%\">&nbsp;</td>\\r\\n        </tr>       \\r\\n        <tr>\\r\\n            <td style=\"width: 3%\">&nbsp;</td>\\r\\n            <td style=\"width: 46%\" class=\"SubSectionTitle2\">\\r\\n                &nbsp;David S. Cantor, CPA</td>\\r\\n            <td style=\"width: 18%\" class=\"SubSectionTitle2\">\\r\\n                Vice-Chairperson</td>\\r\\n            <td style=\"width: 30%\" class=\"SubSectionTitle2\">\\r\\n                Term Expires June 30, 2020</td>\\r\\n            <td style=\"width: 3%\">&nbsp;</td>\\r\\n        </tr>\\r\\n        <tr>\\r\\n            <td style=\"width: 3%\">&nbsp;</td>\\r\\n            <td style=\"width: 46%\" class=\"SubSectionTitle\">\\r\\n                &nbsp;David R. Baldwin, CPA</td>\\r\\n            <td style=\"width: 18%\" class=\"SubSectionTitle\">\\r\\n                Member</td>\\r\\n            <td style=\"width: 30%\" class=\"SubSectionTitle\">\\r\\n                Term Expires June 30, 2021</td>\\r\\n            <td style=\"width: 3%\">&nbsp;</td>\\r\\n        </tr>\\r\\n        <tr>\\r\\n            <td style=\"width: 3%\">&nbsp;</td>\\r\\n            <td style=\"width: 46%\" class=\"SubSectionTitle2\">\\r\\n                &nbsp;Glenn Conover, CPA</td>\\r\\n            <td style=\"width: 18%\" class=\"SubSectionTitle2\">\\r\\n                Member</td>\\r\\n            <td style=\"width: 30%\" class=\"SubSectionTitle2\">\\r\\n                Term Expires June 30, 2023</td>\\r\\n            <td style=\"width: 3%\">&nbsp;</td>\\r\\n        </tr>\\r\\n        <tr>\\r\\n            <td style=\"width: 3%\">&nbsp;</td>\\r\\n            <td style=\"width: 46%\" class=\"SubSectionTitle\">\\r\\n                &nbsp;Michael Patrick O&rsquo;Malley, CPA</td>\\r\\n            <td style=\"width: 18%\" class=\"SubSectionTitle\">\\r\\n                Member</td>\\r\\n            <td style=\"width: 30%\" class=\"SubSectionTitle\">\\r\\n                Term Expires June 30, 2022</td>\\r\\n            <td style=\"width: 3%\">&nbsp;</td>\\r\\n        </tr>\\r\\n        <tr>\\r\\n            <td style=\"width: 3%\">&nbsp;</td>\\r\\n            <td style=\"width: 46%\" class=\"SubSectionTitle2\">\\r\\n                &nbsp;James R. Nardine, CPA</td>\\r\\n            <td style=\"width: 18%\" class=\"SubSectionTitle2\">\\r\\n                Member</td>\\r\\n            <td style=\"width: 30%\" class=\"SubSectionTitle2\">\\r\\n                Term Expires June 30, 2020</td>\\r\\n            <td style=\"width: 3%\">&nbsp;</td>\\r\\n        </tr>\\r\\n        <tr>\\r\\n            <td style=\"width: 3%\">&nbsp;</td>\\r\\n            <td style=\"width: 46%\" class=\"SubSectionTitle\">\\r\\n                &nbsp;Christina C. Roderick, CPA</td>\\r\\n            <td style=\"width: 18%\" class=\"SubSectionTitle\">\\r\\n                Member</td>\\r\\n            <td style=\"width: 30%\" class=\"SubSectionTitle\">\\r\\n                Term Expires June 30, 2020</td>\\r\\n            <td style=\"width: 3%\">&nbsp;</td>\\r\\n        </tr>\\r\\n        <tr>\\r\\n            <td style=\"width: 3%\">&nbsp;</td>\\r\\n            <td style=\"width: 46%\" class=\"SubSectionTitle2\">\\r\\n                &nbsp;Stephen J. Rodis, CPA</td>\\r\\n            <td style=\"width: 18%\" class=\"SubSectionTitle2\">\\r\\n                Member</td>\\r\\n            <td style=\"width: 30%\" class=\"SubSectionTitle2\">\\r\\n                Term Expires June 30, 2023</td>\\r\\n            <td style=\"width: 3%\">&nbsp;</td>\\r\\n        </tr>   \\r\\n        <tr>\\r\\n            <td style=\"width: 3%\">&nbsp;</td>\\r\\n            <td style=\"width: 46%\" class=\"SubSectionTitle\">\\r\\n                &nbsp;Anne Victoria Roediger, CPA</td>\\r\\n            <td style=\"width: 18%\" class=\"SubSectionTitle\">\\r\\n                Member</td>\\r\\n            <td style=\"width: 30%\" class=\"SubSectionTitle\">\\r\\n                Term Expires June 30, 2019</td>\\r\\n            <td style=\"width: 3%\">&nbsp;</td>\\r\\n        </tr> \\r\\n        </table>\\r\\n            </td>\\r\\n            <td width=\"20\" class=\"PicCaption\" valign=\"bottom\">\\r\\n                <a href=\"#Top\">top</a></td>\\r\\n            <td width=\"20\" class=\"PicCaption\" valign=\"bottom\">\\r\\n                &nbsp;</td>\\r\\n        </tr>\\r\\n        <tr>\\r\\n            <td>&nbsp;</td>\\r\\n            <td width=\"20\" class=\"PicCaption\" valign=\"bottom\">\\r\\n                </td>\\r\\n            <td width=\"20\" class=\"PicCaption\" valign=\"bottom\">\\r\\n                &nbsp;</td>\\r\\n        </tr>\\r\\n        <tr>\\r\\n            <td class=\"SectionTitle\">\\r\\n                <a name=\"_Toc222289502\"><span class=\"SectionTitle\">\\r\\n                &nbsp;Peer Review Oversight Advisory Committee</span></a>\\r\\n                <a name=\"Peer_Review_Oversight_Committee\"></a></td>\\r\\n            <td width=\"20\" class=\"PicCaption\" valign=\"bottom\">\\r\\n                </td>\\r\\n            <td width=\"20\" class=\"PicCaption\" valign=\"bottom\">\\r\\n                &nbsp;</td>\\r\\n        </tr>\\r\\n        <tr>\\r\\n            <td>\\r\\n        <table style=\"width: 100%\" cellspacing=\"0\">\\r\\n        <tr>\\r\\n            <td colspan=\"5\" class=\"SectionText\">\\r\\n                Pursuant to A.A.C. R4-1-115.03, the committee\\xe2\\x80\\x99s primary purpose is to assist and advise the \\r\\n                Board on matters relating to the peer review program. The committee reports to the Board \\r\\n                on the program\\xe2\\x80\\x99s effectiveness and the status of participating firms\\xe2\\x80\\x99 compliance with A.A.C. \\r\\n                R4-1-454.<br /><br /></td>\\r\\n        </tr>\\r\\n        <tr>\\r\\n            <td style=\"width: 3%\">&nbsp;</td>\\r\\n            <td style=\"width: 46%\" class=\"SubSectionTitle\">\\r\\n                &nbsp;Timothy R. Coffey, CPA</td>\\r\\n            <td style=\"width: 18%\" class=\"SubSectionTitle\">\\r\\n                Chairperson&nbsp;</td>\\r\\n            <td style=\"width: 30%\" class=\"SubSectionTitle\">\\r\\n                Term Expires June 30, 2022</td>\\r\\n            <td style=\"width: 3%\">&nbsp;</td>\\r\\n        </tr>\\r\\n        <tr>\\r\\n            <td style=\"width: 3%\">&nbsp;</td>\\r\\n            <td style=\"width: 46%\" class=\"SubSectionTitle2\">\\r\\n                &nbsp;Douglas L. Ball, CPA</td>\\r\\n            <td style=\"width: 18%\" class=\"SubSectionTitle2\">\\r\\n                Member</td>\\r\\n            <td style=\"width: 30%\" class=\"SubSectionTitle2\">\\r\\n                Term Expires June 30, 2021</td>\\r\\n            <td style=\"width: 3%\">&nbsp;</td>\\r\\n        </tr>\\r\\n        <tr>\\r\\n            <td style=\"width: 3%\">&nbsp;</td>\\r\\n            <td style=\"width: 46%\" class=\"SubSectionTitle\">\\r\\n                &nbsp;Matthew L. Beeler, CPA</td>\\r\\n            <td style=\"width: 18%\" class=\"SubSectionTitle\">\\r\\n                Member&nbsp;</td>\\r\\n            <td style=\"width: 30%\" class=\"SubSectionTitle\">\\r\\n                Term Expires June 30, 2019</td>\\r\\n            <td style=\"width: 3%\">&nbsp;</td>\\r\\n        </tr>\\r\\n        <tr>\\r\\n            <td style=\"width: 3%\">&nbsp;</td>\\r\\n            <td style=\"width: 46%\" class=\"SubSectionTitle2\">\\r\\n                &nbsp;Wesley Ryan Benally, CPA</td>\\r\\n            <td style=\"width: 18%\" class=\"SubSectionTitle2\">\\r\\n                Member</td>\\r\\n            <td style=\"width: 30%\" class=\"SubSectionTitle2\">\\r\\n                Term Expires June 30, 2021</td>\\r\\n            <td style=\"width: 3%\">&nbsp;</td>\\r\\n        </tr>    \\r\\n        <tr>\\r\\n            <td style=\"width: 3%\">&nbsp;</td>\\r\\n            <td style=\"width: 46%\" class=\"SubSectionTitle\">\\r\\n                &nbsp;Julie Prue Cauich, CPA</td>\\r\\n            <td style=\"width: 18%\" class=\"SubSectionTitle\">\\r\\n                Member</td>\\r\\n            <td style=\"width: 30%\" class=\"SubSectionTitle\">\\r\\n                Term Expires June 30, 2019</td>\\r\\n            <td style=\"width: 3%\">&nbsp;</td>\\r\\n        </tr>\\r\\n        <tr> \\r\\n            <td style=\"width: 3%\">&nbsp;</td>\\r\\n            <td style=\"width: 46%\" class=\"SubSectionTitle2\">\\r\\n                &nbsp;Candace P. Given, CPA</td>\\r\\n            <td style=\"width: 18%\" class=\"SubSectionTitle2\">\\r\\n                Member</td>\\r\\n            <td style=\"width: 30%\" class=\"SubSectionTitle2\">\\r\\n                Term Expires June 30, 2021</td>\\r\\n            <td style=\"width: 3%\">&nbsp;</td>\\r\\n        </tr>\\r\\n        <tr>\\r\\n            <td style=\"width: 3%\">&nbsp;</td>\\r\\n            <td style=\"width: 46%\" class=\"SubSectionTitle\">\\r\\n                &nbsp;Pamela D. Mullins, CPA</td>\\r\\n            <td style=\"width: 18%\" class=\"SubSectionTitle\">\\r\\n                Member</td>\\r\\n            <td style=\"width: 30%\" class=\"SubSectionTitle\">\\r\\n                Term Expires June 30, 2020</td>\\r\\n            <td style=\"width: 3%\">&nbsp;</td>\\r\\n        </tr>\\r\\n        </table>\\r\\n            </td>\\r\\n            <td width=\"20\" class=\"PicCaption\" valign=\"bottom\">\\r\\n                <a href=\"#Top\">top</a></td>\\r\\n            <td width=\"20\" class=\"PicCaption\" valign=\"bottom\">\\r\\n                &nbsp;</td>\\r\\n        </tr>\\r\\n        <tr>\\r\\n            <td>&nbsp;</td>\\r\\n            <td width=\"20\" class=\"PicCaption\" valign=\"bottom\">\\r\\n                </td>\\r\\n            <td width=\"20\" class=\"PicCaption\" valign=\"bottom\">\\r\\n                &nbsp;</td>\\r\\n        </tr>\\r\\n        <tr>\\r\\n            <td class=\"SectionTitle\">\\r\\n                <a name=\"_Toc222289503\"><span class=\"SectionTitle\">\\r\\n                &nbsp;Law Review Advisory Committee</span></a>\\r\\n                <a name=\"Law_Review_Committee\"></a></td>\\r\\n            <td width=\"20\" class=\"PicCaption\" valign=\"bottom\">\\r\\n                </td>\\r\\n            <td width=\"20\" class=\"PicCaption\" valign=\"bottom\">\\r\\n                &nbsp;</td>\\r\\n        </tr>\\r\\n        <tr>\\r\\n            <td>\\r\\n        <table style=\"width: 100%\" cellspacing=\"0\">\\r\\n        <tr>\\r\\n            <td colspan=\"5\" class=\"SectionText\">\\r\\n                Pursuant to A.A.C. R4-1-115.01, the committee assists the Board in the evaluation of the \\r\\n                Board\\xe2\\x80\\x99s statutory and regulatory provisions. <br /><br />\\r\\n            </td>\\r\\n        </tr>\\r\\n        <tr>\\r\\n            <td style=\"width: 3%\">&nbsp;</td>\\r\\n            <td style=\"width: 46%\" class=\"SubSectionTitle\">\\r\\n                &nbsp;John Chadwick Todd, II, CPA</td>\\r\\n            <td style=\"width: 18%\" class=\"SubSectionTitle\">\\r\\n                Chairperson</td>\\r\\n            <td style=\"width: 30%\" class=\"SubSectionTitle\">\\r\\n                Term Expires June 30, 2019</td>\\r\\n            <td style=\"width: 3%\">&nbsp;</td>\\r\\n        </tr>\\r\\n        <tr>\\r\\n            <td style=\"width: 3%\">&nbsp;</td>\\r\\n            <td style=\"width: 46%\" class=\"SubSectionTitle2\">\\r\\n                &nbsp;Alan R. Augenstein, CPA</td> \\r\\n            <td style=\"width: 18%\" class=\"SubSectionTitle2\">\\r\\n                Member</td>\\r\\n            <td style=\"width: 30%\" class=\"SubSectionTitle2\">\\r\\n                Term Expires June 30, 2021</td> \\r\\n            <td style=\"width: 3%\">&nbsp;</td>\\r\\n        </tr>\\r\\n        <tr>\\r\\n            <td style=\"width: 3%\">&nbsp;</td>\\r\\n            <td style=\"width: 46%\" class=\"SubSectionTitle\">\\r\\n                &nbsp;Roger L. Cohen, Esq</td>\\r\\n            <td style=\"width: 18%\" class=\"SubSectionTitle\">\\r\\n                Member</td>\\r\\n            <td style=\"width: 30%\" class=\"SubSectionTitle\">\\r\\n                Term Expires June 30, 2019</td>\\r\\n            <td style=\"width: 3%\">&nbsp;</td>\\r\\n        </tr>\\r\\n        <tr>\\r\\n            <td style=\"width: 3%\">&nbsp;</td>\\r\\n            <td style=\"width: 46%\" class=\"SubSectionTitle2\">\\r\\n                &nbsp;George Coleman, Esq</td>\\r\\n            <td style=\"width: 18%\" class=\"SubSectionTitle2\">\\r\\n                Member</td>\\r\\n            <td style=\"width: 30%\" class=\"SubSectionTitle2\">\\r\\n                Term Expires June 30, 2019</td>\\r\\n            <td style=\"width: 3%\">&nbsp;</td>\\r\\n        </tr>\\r\\n        <tr>\\r\\n            <td style=\"width: 3%\">&nbsp;</td>\\r\\n            <td style=\"width: 46%\" class=\"SubSectionTitle\">\\r\\n                &nbsp;Mark Lawrence Landy, CPA (Retired)</td>\\r\\n            <td style=\"width: 18%\" class=\"SubSectionTitle\">\\r\\n                Member</td>\\r\\n            <td style=\"width: 30%\" class=\"SubSectionTitle\">\\r\\n                Term Expires June 30, 2023</td> \\r\\n            <td style=\"width: 3%\">&nbsp;</td>\\r\\n        </tr>\\r\\n        <tr>\\r\\n            <td style=\"width: 3%\">&nbsp;</td>\\r\\n            <td style=\"width: 46%\" class=\"SubSectionTitle2\">\\r\\n                &nbsp;Karen K. McCloskey, CPA</td>\\r\\n            <td style=\"width: 18%\" class=\"SubSectionTitle2\">\\r\\n                Member</td>\\r\\n            <td style=\"width: 30%\" class=\"SubSectionTitle2\">\\r\\n                Term Expires June 30, 2020</td>\\r\\n            <td style=\"width: 3%\">&nbsp;</td>\\r\\n        </tr>\\r\\n        <tr>\\r\\n            <td style=\"width: 3%\">&nbsp;</td>\\r\\n            <td style=\"width: 46%\" class=\"SubSectionTitle\">\\r\\n                &nbsp;Scott Albert Mitchem, CPA</td>\\r\\n            <td style=\"width: 18%\" class=\"SubSectionTitle\">\\r\\n                Member</td>\\r\\n            <td style=\"width: 30%\" class=\"SubSectionTitle\">\\r\\n                Term Expires June 30, 2020</td>\\r\\n            <td style=\"width: 3%\">&nbsp;</td>\\r\\n        </tr>\\r\\n        </table>\\r\\n            </td>\\r\\n            <td width=\"20\" class=\"PicCaption\" valign=\"bottom\">\\r\\n                <a href=\"#Top\">top</a></td>\\r\\n            <td width=\"20\" class=\"PicCaption\" valign=\"bottom\">\\r\\n                &nbsp;</td>\\r\\n        </tr>\\r\\n        <tr>\\r\\n            <td>&nbsp;</td>\\r\\n            <td width=\"20\" class=\"PicCaption\" valign=\"bottom\">\\r\\n                </td>\\r\\n            <td width=\"20\" class=\"PicCaption\" valign=\"bottom\">\\r\\n                &nbsp;</td>\\r\\n        </tr>\\r\\n        <tr>\\r\\n            <td class=\"SectionTitle\">\\r\\n                <a name=\"_Toc222289504\"><span class=\"SectionTitle\">\\r\\n                &nbsp;Certification Advisory Committee</span></a>\\r\\n                <a name=\"Certification_Committee\"></a></td>\\r\\n            <td width=\"20\" class=\"PicCaption\" valign=\"bottom\">\\r\\n                </td>\\r\\n            <td width=\"20\" class=\"PicCaption\" valign=\"bottom\">\\r\\n                &nbsp;</td>\\r\\n        </tr>\\r\\n        <tr>\\r\\n            <td>\\r\\n        <table style=\"width: 100%\" cellspacing=\"0\">\\r\\n        <tr>\\r\\n            <td colspan=\"5\" class=\"SectionText\">\\r\\n                Pursuant to A.A.C. R4-1-115.04, the committee\\xe2\\x80\\x99s primary purpose is to evaluate \\r\\n                applications for candidates applying for the Uniform CPA Exam and for certification. \\r\\n                Application packets include transcripts and supporting documentation, which are used to \\r\\n                verify the statutory requirements of exam and certification candidates.<br /><br /></td>\\r\\n        </tr>\\r\\n        <tr>\\r\\n            <td style=\"width: 3%\">&nbsp;</td>\\r\\n            <td style=\"width: 46%\" class=\"SubSectionTitle\">\\r\\n                &nbsp;Vicki L. Rios, CPA</td>\\r\\n            <td style=\"width: 18%\" class=\"SubSectionTitle\">\\r\\n                Chairperson&nbsp;</td>\\r\\n            <td style=\"width: 30%\" class=\"SubSectionTitle\">\\r\\n                Term Expires June 30, 2023</td>\\r\\n            <td style=\"width: 3%\">&nbsp;</td>\\r\\n        </tr>\\r\\n        <tr>\\r\\n            <td style=\"width: 3%\">&nbsp;</td>\\r\\n            <td style=\"width: 46%\" class=\"SubSectionTitle2\">\\r\\n                &nbsp;Teresa Besser Finley, CPA</td>\\r\\n            <td style=\"width: 18%\" class=\"SubSectionTitle2\">\\r\\n                Member</td>\\r\\n            <td style=\"width: 30%\" class=\"SubSectionTitle2\">\\r\\n                Term Expires June 30, 2019</td>\\r\\n            <td style=\"width: 3%\">&nbsp;</td>\\r\\n        </tr>\\r\\n        <tr>\\r\\n            <td style=\"width: 3%\">&nbsp;</td>\\r\\n            <td style=\"width: 46%\" class=\"SubSectionTitle\">\\r\\n                &nbsp;Anthony R. Gerlach, CPA</td>\\r\\n            <td style=\"width: 18%\" class=\"SubSectionTitle\">\\r\\n                Member</td>\\r\\n            <td style=\"width: 30%\" class=\"SubSectionTitle\">\\r\\n                Term Expires June 30, 2021</td>\\r\\n            <td style=\"width: 3%\">&nbsp;</td>\\r\\n        </tr>\\r\\n        <tr>\\r\\n            <td style=\"width: 3%\">&nbsp;</td>\\r\\n            <td style=\"width: 46%\" class=\"SubSectionTitle2\">\\r\\n                &nbsp;Debra A. Hunter, CPA</td>\\r\\n            <td style=\"width: 18%\" class=\"SubSectionTitle2\">\\r\\n                Member</td>\\r\\n            <td style=\"width: 30%\" class=\"SubSectionTitle2\">\\r\\n                Term Expires June 30, 2020</td>\\r\\n            <td style=\"width: 3%\">&nbsp;</td>\\r\\n        </tr>\\r\\n        <tr>\\r\\n            <td style=\"width: 3%\">&nbsp;</td>\\r\\n            <td style=\"width: 46%\" class=\"SubSectionTitle\">\\r\\n                &nbsp;Nancy S. Maurer, CPA</td>\\r\\n            <td style=\"width: 18%\" class=\"SubSectionTitle\">\\r\\n                Member</td>\\r\\n            <td style=\"width: 30%\" class=\"SubSectionTitle\">\\r\\n                Term Expires June 30, 2023</td>\\r\\n            <td style=\"width: 3%\">&nbsp;</td>\\r\\n        </tr>\\r\\n        <tr>\\r\\n            <td style=\"width: 3%\">&nbsp;</td>\\r\\n            <td style=\"width: 46%\" class=\"SubSectionTitle2\">\\r\\n                &nbsp;Sharron E. Walker, CPA</td>\\r\\n            <td style=\"width: 18%\" class=\"SubSectionTitle2\">\\r\\n                Member</td>\\r\\n            <td style=\"width: 20%\" class=\"SubSectionTitle2\">\\r\\n                Term Expires June 30, 2022</td>\\r\\n            <td style=\"width: 3%\">&nbsp;</td>\\r\\n        </tr>\\r\\n        <tr>\\r\\n            <td style=\"width: 3%\">&nbsp;</td>\\r\\n            <td style=\"width: 46%\" class=\"SubSectionTitle\">\\r\\n                &nbsp;Erika M. Yoshimura, CPA</td>\\r\\n            <td style=\"width: 18%\" class=\"SubSectionTitle\">\\r\\n                Member</td>\\r\\n            <td style=\"width: 30%\" class=\"SubSectionTitle\">\\r\\n                Term Expires June 30, 2020</td>\\r\\n            <td style=\"width: 3%\">&nbsp;</td>\\r\\n        </tr>\\r\\n        </table>\\r\\n            </td>\\r\\n            <td width=\"20\" class=\"PicCaption\" valign=\"bottom\">\\r\\n                <a href=\"#Top\">top</a></td>\\r\\n            <td width=\"20\" class=\"PicCaption\" valign=\"bottom\">\\r\\n                &nbsp;</td>\\r\\n        </tr>\\r\\n        <tr>\\r\\n            <td>&nbsp;</td>\\r\\n            <td width=\"20\" class=\"PicCaption\" valign=\"bottom\">\\r\\n                </td>\\r\\n            <td width=\"20\" class=\"PicCaption\" valign=\"bottom\">\\r\\n                &nbsp;</td>\\r\\n        </tr>\\r\\n        <tr>\\r\\n            <td class=\"SectionTitle\">\\r\\n                <a name=\"_Toc222289505\"><span class=\"SectionTitle\">\\r\\n                &nbsp;Continuing Professional Education Advisory Committee</span></a>\\r\\n                <a name=\"Continuing_Professional_Education_Committee\"></a></td>\\r\\n            <td width=\"20\" class=\"PicCaption\" valign=\"bottom\">\\r\\n                </td>\\r\\n            <td width=\"20\" class=\"PicCaption\" valign=\"bottom\">\\r\\n                &nbsp;</td>\\r\\n        </tr>\\r\\n        <tr>\\r\\n            <td>\\r\\n        <table style=\"width: 100%\" cellspacing=\"0\">\\r\\n        <tr>\\r\\n            <td colspan=\"5\" class=\"SectionText\">\\r\\n                Pursuant to A.A.C. R4-1-115.02, the committee\\xe2\\x80\\x99s primary purpose is to assist in the \\r\\n                evaluation of continuing professional education (CPE). The Committee makes advisory \\r\\n                recommendations to the Board concerning CPE programs, a registrant\\xe2\\x80\\x99s satisfaction of CPE \\r\\n                requirements and a registrant\\xe2\\x80\\x99s compliance with disciplinary orders requiring CPE. <br /><br /></td>\\r\\n        </tr>\\r\\n        <tr>\\r\\n            <td style=\"width: 3%\">&nbsp;</td>\\r\\n            <td style=\"width: 46%\" class=\"SubSectionTitle2\">\\r\\n            &nbsp;A. Carter Smitherman, CPA</td>\\r\\n            <td style=\"width: 18%\" class=\"SubSectionTitle2\">\\r\\n                Chairperson</td>\\r\\n            <td style=\"width: 30%\" class=\"SubSectionTitle2\">\\r\\n                Term Expires June 30, 2020</td>\\r\\n            <td style=\"width: 3%\">&nbsp;</td>\\r\\n        </tr>\\r\\n        <tr>\\r\\n            <td style=\"width: 3%\">&nbsp;</td>\\r\\n            <td style=\"width: 46%\" class=\"SubSectionTitle\"> \\r\\n            &nbsp;Freddy Bedoya, CPA</td>\\r\\n            <td style=\"width: 18%\" class=\"SubSectionTitle\">\\r\\n                Member</td>\\r\\n            <td style=\"width: 30%\" class=\"SubSectionTitle\">\\r\\n                Term Expires June 30, 2021</td>\\r\\n            <td style=\"width: 3%\">&nbsp;</td>\\r\\n        </tr>\\r\\n        <tr>\\r\\n            <td style=\"width: 3%\">&nbsp;</td>\\r\\n            <td style=\"width: 46%\" class=\"SubSectionTitle2\">\\r\\n                &nbsp;Anne Cornelius, CPA</td>\\r\\n            <td style=\"width: 18%\" class=\"SubSectionTitle2\">\\r\\n                Member</td>\\r\\n            <td style=\"width: 30%\" class=\"SubSectionTitle2\">\\r\\n                Term Expires June 30, 2023</td>\\r\\n            <td style=\"width: 3%\">&nbsp;</td>\\r\\n        </tr>\\r\\n        <tr>\\r\\n            <td style=\"width: 3%\">&nbsp;</td>\\r\\n            <td style=\"width: 46%\" class=\"SubSectionTitle\">\\r\\n            &nbsp;Josef L. Jatzkewitz, CPA</td>\\r\\n            <td style=\"width: 18%\" class=\"SubSectionTitle\">\\r\\n                Member</td>\\r\\n            <td style=\"width: 30%\" class=\"SubSectionTitle\">\\r\\n                Term Expires June 30, 2023</td>\\r\\n            <td style=\"width: 3%\">&nbsp;</td>\\r\\n        </tr>\\r\\n        <tr>\\r\\n            <td style=\"width: 3%\">&nbsp;</td>\\r\\n            <td style=\"width: 46%\" class=\"SubSectionTitle2\">\\r\\n            &nbsp;Paul F. Kern, CPA</td>\\r\\n            <td style=\"width: 18%\" class=\"SubSectionTitle2\">\\r\\n                Member</td>\\r\\n            <td style=\"width: 30%\" class=\"SubSectionTitle2\">\\r\\n                Term Expires June 30, 2023</td>\\r\\n            <td style=\"width: 3%\">&nbsp;</td>\\r\\n        </tr>\\r\\n        <tr>\\r\\n            <td style=\"width: 3%\">&nbsp;</td>\\r\\n            <td style=\"width: 46%\" class=\"SubSectionTitle\">\\r\\n            &nbsp;Craig P. Lewandowski, CPA</td>\\r\\n            <td style=\"width: 18%\" class=\"SubSectionTitle\">\\r\\n                Member</td>\\r\\n            <td style=\"width: 30%\" class=\"SubSectionTitle\">\\r\\n                Term Expires June 30, 2021</td>\\r\\n            <td style=\"width: 3%\">&nbsp;</td>\\r\\n        </tr>\\r\\n        <tr>\\r\\n            <td style=\"width: 3%\">&nbsp;</td>\\r\\n            <td style=\"width: 46%\" class=\"SubSectionTitle2\">\\r\\n            &nbsp;Jo-Ann M. Humphrey, CPA, CGFM</td>\\r\\n            <td style=\"width: 18%\" class=\"SubSectionTitle2\">\\r\\n                Member</td>\\r\\n            <td style=\"width: 30%\" class=\"SubSectionTitle2\">\\r\\n                Term Expires June 30, 2020</td>\\r\\n            <td style=\"width: 3%\">&nbsp;</td>\\r\\n        </tr>\\r\\n        </table>\\r\\n            <br /></td>\\r\\n            <td width=\"20\" class=\"PicCaption\" valign=\"bottom\">\\r\\n                <a href=\"#Top\">top</a><br /><br /></td>\\r\\n            <td width=\"20\" class=\"PicCaption\" valign=\"bottom\">\\r\\n                &nbsp;</td>\\r\\n        </tr>\\r\\n    </table>\\r\\n\\r\\n                    <span id=\"lblError\" class=\"error-text\" style=\"display:inline-block;\"></span>\\r\\n                </div>\\r\\n                <div class=\"block\">\\r\\n                    &nbsp;</div>\\r\\n            </div>\\r\\n        </div>\\r\\n    </div>\\r\\n    <div id=\"mock_footer\">\\r\\n        <a id=\"HyperLink1\" href=\"StaffMembers.aspx\">\\r\\n            Contact Us</a>|\\r\\n        \\r\\n        <a href=\"#\" onclick=\\'window.location.href = &quot;..//DownloadFile.aspx?FD=ABA%20Privacy%20Policy&FN=ABA%20Privacy%20Policy&FE=pdf&FF=documents&FA=asboastorage&quot;;return false;\\'>\\r\\n            Privacy Policy</a>|\\r\\n        \\r\\n        <a href=\"#\" onclick=\\'window.location.href = &quot;..//DownloadFile.aspx?FD=Web%20Site%20Accessibility%20Policy&FN=Web%20Site%20Accessibility%20Policy&FE=pdf&FF=documents&FA=asboastorage&quot;;return false;\\'>\\r\\n            Accessibility Policy</a>|\\r\\n       <a id=\"lnkLogIn\" href=\"../login/login.aspx\">\\r\\n            Log In</a>| \\r\\n        \\xc2\\xa9 2009 - \\r\\n            <script  type=\"text/javascript\"> \\r\\n                \\r\\n                today = new Date();\\r\\n                yr = today.getFullYear();\\r\\n                document.write(yr); \\r\\n                \\r\\n            </script>\\r\\n        Board of Accountancy\\r\\n    </div>\\r\\n    <table class=\"info\" align=\"center\">\\r\\n        <tr>\\r\\n                <td width=\"640\" class=\"PageText\" align=\"right\" colspan=\"3\">\\r\\n                    <table width=\"100%\" border=\"0\" cellpadding=\"2\" cellspacing=\"0\" \\r\\n                        title=\"Click to Verify - This site chose DigiCert-Symantec SSL for secure e-commerce and confidential communications.\">\\r\\n                        <tr>\\r\\n                            <td width=\"135\" align=\"center\" valign=\"top\">\\r\\n                                <script type=\"text/javascript\" \\r\\n                                    src=\"https://seal.websecurity.norton.com/getseal?host_name=www.azaccountancy.gov&amp;size=S&amp;use_flash=NO&amp;use_transparent=Yes&amp;lang=en\">\\r\\n                                </script><br />\\r\\n                                <a href=\"https://www.websecurity.symantec.com/ssl-certificate\" target=\"_blank\"  \\r\\n                                    style=\"color:#000000; text-decoration:none; font:bold 7px verdana,sans-serif; letter-spacing:.5px;text-align:center; margin:0px; padding:0px;\"> \\r\\n                                    About SSL Certificates</a>\\r\\n                            </td>\\r\\n                        </tr>\\r\\n                    </table>\\r\\n                </td> \\r\\n                <td colspan=\"3\"><a name=\"pagebottom\"></a>&nbsp;</td>\\r\\n            </tr>      \\r\\n    </table>\\r\\n    </form>\\r\\n</body>\\r\\n</html>\\r\\n'"
      ]
     },
     "execution_count": 14,
     "metadata": {},
     "output_type": "execute_result"
    }
   ],
   "source": [
    "r.data"
   ]
  },
  {
   "cell_type": "code",
   "execution_count": 30,
   "metadata": {},
   "outputs": [
    {
     "name": "stderr",
     "output_type": "stream",
     "text": [
      "C:\\Users\\Niranjan Dawadi\\Anaconda3\\lib\\site-packages\\bs4\\__init__.py:181: UserWarning: No parser was explicitly specified, so I'm using the best available HTML parser for this system (\"lxml\"). This usually isn't a problem, but if you run this code on another system, or in a different virtual environment, it may use a different parser and behave differently.\n",
      "\n",
      "The code that caused this warning is on line 193 of the file C:\\Users\\Niranjan Dawadi\\Anaconda3\\lib\\runpy.py. To get rid of this warning, change code that looks like this:\n",
      "\n",
      " BeautifulSoup(YOUR_MARKUP})\n",
      "\n",
      "to this:\n",
      "\n",
      " BeautifulSoup(YOUR_MARKUP, \"lxml\")\n",
      "\n",
      "  markup_type=markup_type))\n"
     ]
    }
   ],
   "source": [
    "soup = BeautifulSoup(r.data)"
   ]
  },
  {
   "cell_type": "code",
   "execution_count": 40,
   "metadata": {},
   "outputs": [],
   "source": [
    "html = BeautifulSoup(r, 'html.parser')"
   ]
  },
  {
   "cell_type": "code",
   "execution_count": 50,
   "metadata": {},
   "outputs": [],
   "source": [
    "name_box = soup.find('td', attrs={'class': 'SubSectionTitle'})\n"
   ]
  },
  {
   "cell_type": "code",
   "execution_count": 53,
   "metadata": {},
   "outputs": [
    {
     "name": "stdout",
     "output_type": "stream",
     "text": [
      "Christopher A. Lutes, CPA\n"
     ]
    }
   ],
   "source": [
    "name = name_box.text.strip()\n",
    "print (name)"
   ]
  },
  {
   "cell_type": "code",
   "execution_count": 56,
   "metadata": {},
   "outputs": [],
   "source": [
    "general_data = soup.find_all('td', {'class' : 'SubSectionTitle'})"
   ]
  },
  {
   "cell_type": "code",
   "execution_count": 58,
   "metadata": {},
   "outputs": [
    {
     "name": "stdout",
     "output_type": "stream",
     "text": [
      "[<td class=\"SubSectionTitle\" style=\"width: 46%\">\n",
      "                 Christopher A. Lutes, CPA</td>, <td class=\"SubSectionTitle\" style=\"width: 18%\">\n",
      "                Vice-Chairperson </td>, <td class=\"SubSectionTitle\" style=\"width: 30%\">\n",
      "                Term Expires June 30, 2023</td>, <td class=\"SubSectionTitle\" style=\"width: 46%\">\n",
      "                 Michael Haugen, CPA</td>, <td class=\"SubSectionTitle\" style=\"width: 18%\">\n",
      "                Member</td>, <td class=\"SubSectionTitle\" style=\"width: 30%\">\n",
      "                Term Expires June 30, 2023</td>, <td class=\"SubSectionTitle\" style=\"width: 46%\">\n",
      "                 Brian Robert Lee, CPA</td>, <td class=\"SubSectionTitle\" style=\"width: 18%\">\n",
      "                Member</td>, <td class=\"SubSectionTitle\" style=\"width: 30%\">\n",
      "                Term Expires June 30, 2021</td>, <td class=\"SubSectionTitle\" style=\"width: 46%\">\n",
      "                 Steven Lavier Tait, CPA</td>, <td class=\"SubSectionTitle\" style=\"width: 18%\">\n",
      "                Member</td>, <td class=\"SubSectionTitle\" style=\"width: 30%\">\n",
      "                Term Expires June 30, 2020</td>, <td class=\"SubSectionTitle\" style=\"width: 46%\">\n",
      "                 Leslie Stackpole, CPA</td>, <td class=\"SubSectionTitle\" style=\"width: 18%\">\n",
      "                Chairperson</td>, <td class=\"SubSectionTitle\" style=\"width: 30%\">\n",
      "                Term Expires June 30, 2019</td>, <td class=\"SubSectionTitle\" style=\"width: 46%\">\n",
      "                 David R. Baldwin, CPA</td>, <td class=\"SubSectionTitle\" style=\"width: 18%\">\n",
      "                Member</td>, <td class=\"SubSectionTitle\" style=\"width: 30%\">\n",
      "                Term Expires June 30, 2021</td>, <td class=\"SubSectionTitle\" style=\"width: 46%\">\n",
      "                 Michael Patrick O’Malley, CPA</td>, <td class=\"SubSectionTitle\" style=\"width: 18%\">\n",
      "                Member</td>, <td class=\"SubSectionTitle\" style=\"width: 30%\">\n",
      "                Term Expires June 30, 2022</td>, <td class=\"SubSectionTitle\" style=\"width: 46%\">\n",
      "                 Christina C. Roderick, CPA</td>, <td class=\"SubSectionTitle\" style=\"width: 18%\">\n",
      "                Member</td>, <td class=\"SubSectionTitle\" style=\"width: 30%\">\n",
      "                Term Expires June 30, 2020</td>, <td class=\"SubSectionTitle\" style=\"width: 46%\">\n",
      "                 Anne Victoria Roediger, CPA</td>, <td class=\"SubSectionTitle\" style=\"width: 18%\">\n",
      "                Member</td>, <td class=\"SubSectionTitle\" style=\"width: 30%\">\n",
      "                Term Expires June 30, 2019</td>, <td class=\"SubSectionTitle\" style=\"width: 46%\">\n",
      "                 Timothy R. Coffey, CPA</td>, <td class=\"SubSectionTitle\" style=\"width: 18%\">\n",
      "                Chairperson </td>, <td class=\"SubSectionTitle\" style=\"width: 30%\">\n",
      "                Term Expires June 30, 2022</td>, <td class=\"SubSectionTitle\" style=\"width: 46%\">\n",
      "                 Matthew L. Beeler, CPA</td>, <td class=\"SubSectionTitle\" style=\"width: 18%\">\n",
      "                Member </td>, <td class=\"SubSectionTitle\" style=\"width: 30%\">\n",
      "                Term Expires June 30, 2019</td>, <td class=\"SubSectionTitle\" style=\"width: 46%\">\n",
      "                 Julie Prue Cauich, CPA</td>, <td class=\"SubSectionTitle\" style=\"width: 18%\">\n",
      "                Member</td>, <td class=\"SubSectionTitle\" style=\"width: 30%\">\n",
      "                Term Expires June 30, 2019</td>, <td class=\"SubSectionTitle\" style=\"width: 46%\">\n",
      "                 Pamela D. Mullins, CPA</td>, <td class=\"SubSectionTitle\" style=\"width: 18%\">\n",
      "                Member</td>, <td class=\"SubSectionTitle\" style=\"width: 30%\">\n",
      "                Term Expires June 30, 2020</td>, <td class=\"SubSectionTitle\" style=\"width: 46%\">\n",
      "                 John Chadwick Todd, II, CPA</td>, <td class=\"SubSectionTitle\" style=\"width: 18%\">\n",
      "                Chairperson</td>, <td class=\"SubSectionTitle\" style=\"width: 30%\">\n",
      "                Term Expires June 30, 2019</td>, <td class=\"SubSectionTitle\" style=\"width: 46%\">\n",
      "                 Roger L. Cohen, Esq</td>, <td class=\"SubSectionTitle\" style=\"width: 18%\">\n",
      "                Member</td>, <td class=\"SubSectionTitle\" style=\"width: 30%\">\n",
      "                Term Expires June 30, 2019</td>, <td class=\"SubSectionTitle\" style=\"width: 46%\">\n",
      "                 Mark Lawrence Landy, CPA (Retired)</td>, <td class=\"SubSectionTitle\" style=\"width: 18%\">\n",
      "                Member</td>, <td class=\"SubSectionTitle\" style=\"width: 30%\">\n",
      "                Term Expires June 30, 2023</td>, <td class=\"SubSectionTitle\" style=\"width: 46%\">\n",
      "                 Scott Albert Mitchem, CPA</td>, <td class=\"SubSectionTitle\" style=\"width: 18%\">\n",
      "                Member</td>, <td class=\"SubSectionTitle\" style=\"width: 30%\">\n",
      "                Term Expires June 30, 2020</td>, <td class=\"SubSectionTitle\" style=\"width: 46%\">\n",
      "                 Vicki L. Rios, CPA</td>, <td class=\"SubSectionTitle\" style=\"width: 18%\">\n",
      "                Chairperson </td>, <td class=\"SubSectionTitle\" style=\"width: 30%\">\n",
      "                Term Expires June 30, 2023</td>, <td class=\"SubSectionTitle\" style=\"width: 46%\">\n",
      "                 Anthony R. Gerlach, CPA</td>, <td class=\"SubSectionTitle\" style=\"width: 18%\">\n",
      "                Member</td>, <td class=\"SubSectionTitle\" style=\"width: 30%\">\n",
      "                Term Expires June 30, 2021</td>, <td class=\"SubSectionTitle\" style=\"width: 46%\">\n",
      "                 Nancy S. Maurer, CPA</td>, <td class=\"SubSectionTitle\" style=\"width: 18%\">\n",
      "                Member</td>, <td class=\"SubSectionTitle\" style=\"width: 30%\">\n",
      "                Term Expires June 30, 2023</td>, <td class=\"SubSectionTitle\" style=\"width: 46%\">\n",
      "                 Erika M. Yoshimura, CPA</td>, <td class=\"SubSectionTitle\" style=\"width: 18%\">\n",
      "                Member</td>, <td class=\"SubSectionTitle\" style=\"width: 30%\">\n",
      "                Term Expires June 30, 2020</td>, <td class=\"SubSectionTitle\" style=\"width: 46%\"> \n",
      "             Freddy Bedoya, CPA</td>, <td class=\"SubSectionTitle\" style=\"width: 18%\">\n",
      "                Member</td>, <td class=\"SubSectionTitle\" style=\"width: 30%\">\n",
      "                Term Expires June 30, 2021</td>, <td class=\"SubSectionTitle\" style=\"width: 46%\">\n",
      "             Josef L. Jatzkewitz, CPA</td>, <td class=\"SubSectionTitle\" style=\"width: 18%\">\n",
      "                Member</td>, <td class=\"SubSectionTitle\" style=\"width: 30%\">\n",
      "                Term Expires June 30, 2023</td>, <td class=\"SubSectionTitle\" style=\"width: 46%\">\n",
      "             Craig P. Lewandowski, CPA</td>, <td class=\"SubSectionTitle\" style=\"width: 18%\">\n",
      "                Member</td>, <td class=\"SubSectionTitle\" style=\"width: 30%\">\n",
      "                Term Expires June 30, 2021</td>]\n"
     ]
    }
   ],
   "source": [
    "print (general_data)"
   ]
  },
  {
   "cell_type": "code",
   "execution_count": 78,
   "metadata": {},
   "outputs": [],
   "source": [
    "A=[]\n",
    "B=[]\n",
    "C=[]\n",
    "D=[]\n",
    "E=[]\n",
    "F=[]\n",
    "G=[]\n",
    "for row in general_data.findAll(\"td\"):\n",
    "    #cells = row.findAll('td')\n",
    "    #states=row.findAll('td') \n",
    "    if len(cells)==6: \n",
    "        A.append(cells[0].find(text=True))\n",
    "        B.append(states[0].find(text=True))\n",
    "        C.append(cells[1].find(text=True))\n",
    "        D.append(cells[2].find(text=True))\n",
    "        E.append(cells[3].find(text=True))\n",
    "        F.append(cells[4].find(text=True))\n",
    "        G.append(cells[5].find(text=True))"
   ]
  },
  {
   "cell_type": "code",
   "execution_count": 80,
   "metadata": {},
   "outputs": [
    {
     "name": "stdout",
     "output_type": "stream",
     "text": [
      "<td class=\"SubSectionTitle\" style=\"width: 30%\">\n",
      "                Term Expires June 30, 2021</td>\n"
     ]
    }
   ],
   "source": []
  },
  {
   "cell_type": "code",
   "execution_count": null,
   "metadata": {},
   "outputs": [],
   "source": []
  }
 ],
 "metadata": {
  "kernelspec": {
   "display_name": "Python 3",
   "language": "python",
   "name": "python3"
  },
  "language_info": {
   "codemirror_mode": {
    "name": "ipython",
    "version": 3
   },
   "file_extension": ".py",
   "mimetype": "text/x-python",
   "name": "python",
   "nbconvert_exporter": "python",
   "pygments_lexer": "ipython3",
   "version": "3.6.5"
  }
 },
 "nbformat": 4,
 "nbformat_minor": 2
}
